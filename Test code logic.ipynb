{
  "nbformat": 4,
  "nbformat_minor": 0,
  "metadata": {
    "colab": {
      "provenance": []
    },
    "kernelspec": {
      "name": "python3",
      "display_name": "Python 3"
    },
    "language_info": {
      "name": "python"
    }
  },
  "cells": [
    {
      "cell_type": "markdown",
      "source": [
        "Step 1: Import Required Libraries\n",
        "\n"
      ],
      "metadata": {
        "id": "CfkLRau7tOzC"
      }
    },
    {
      "cell_type": "code",
      "execution_count": 1,
      "metadata": {
        "id": "wARnyxmttH34"
      },
      "outputs": [],
      "source": [
        "# Data handling\n",
        "import pandas as pd\n",
        "import numpy as np\n",
        "\n",
        "# Data visualization\n",
        "import seaborn as sns\n",
        "import matplotlib.pyplot as plt\n",
        "\n",
        "# Preprocessing\n",
        "from sklearn.model_selection import train_test_split, cross_val_score\n",
        "from sklearn.preprocessing import StandardScaler, LabelEncoder\n",
        "\n",
        "# Classifiers\n",
        "from sklearn.linear_model import LogisticRegression\n",
        "from sklearn.tree import DecisionTreeClassifier\n",
        "from sklearn.ensemble import RandomForestClassifier, GradientBoostingClassifier\n",
        "from xgboost import XGBClassifier\n",
        "from sklearn.svm import SVC\n",
        "\n",
        "# Metrics\n",
        "from sklearn.metrics import classification_report, confusion_matrix, roc_auc_score, roc_curve, accuracy_score\n"
      ]
    },
    {
      "cell_type": "markdown",
      "source": [
        "Step 2: Load the Dataset\n",
        "\n"
      ],
      "metadata": {
        "id": "489oVl9Ita1U"
      }
    },
    {
      "cell_type": "code",
      "source": [
        "# Replace with your dataset path\n",
        "df = pd.read_csv('/content/loan_data.csv')  # Example dataset\n",
        "\n",
        "# Explore dataset\n",
        "print(df.head())\n",
        "print(df.info())\n",
        "print(df.describe())\n"
      ],
      "metadata": {
        "colab": {
          "base_uri": "https://localhost:8080/"
        },
        "id": "re_P5M-CtRPF",
        "outputId": "6000f9ea-f565-4191-dbc0-d76348ba4af7"
      },
      "execution_count": 2,
      "outputs": [
        {
          "output_type": "stream",
          "name": "stdout",
          "text": [
            "   person_age person_gender person_education  person_income  person_emp_exp  \\\n",
            "0        22.0        female           Master        71948.0               0   \n",
            "1        21.0        female      High School        12282.0               0   \n",
            "2        25.0        female      High School        12438.0               3   \n",
            "3        23.0        female         Bachelor        79753.0               0   \n",
            "4        24.0          male           Master        66135.0               1   \n",
            "\n",
            "  person_home_ownership  loan_amnt loan_intent  loan_int_rate  \\\n",
            "0                  RENT    35000.0    PERSONAL          16.02   \n",
            "1                   OWN     1000.0   EDUCATION          11.14   \n",
            "2              MORTGAGE     5500.0     MEDICAL          12.87   \n",
            "3                  RENT    35000.0     MEDICAL          15.23   \n",
            "4                  RENT    35000.0     MEDICAL          14.27   \n",
            "\n",
            "   loan_percent_income  cb_person_cred_hist_length  credit_score  \\\n",
            "0                 0.49                         3.0           561   \n",
            "1                 0.08                         2.0           504   \n",
            "2                 0.44                         3.0           635   \n",
            "3                 0.44                         2.0           675   \n",
            "4                 0.53                         4.0           586   \n",
            "\n",
            "  previous_loan_defaults_on_file  loan_status  \n",
            "0                             No            1  \n",
            "1                            Yes            0  \n",
            "2                             No            1  \n",
            "3                             No            1  \n",
            "4                             No            1  \n",
            "<class 'pandas.core.frame.DataFrame'>\n",
            "RangeIndex: 45000 entries, 0 to 44999\n",
            "Data columns (total 14 columns):\n",
            " #   Column                          Non-Null Count  Dtype  \n",
            "---  ------                          --------------  -----  \n",
            " 0   person_age                      45000 non-null  float64\n",
            " 1   person_gender                   45000 non-null  object \n",
            " 2   person_education                45000 non-null  object \n",
            " 3   person_income                   45000 non-null  float64\n",
            " 4   person_emp_exp                  45000 non-null  int64  \n",
            " 5   person_home_ownership           45000 non-null  object \n",
            " 6   loan_amnt                       45000 non-null  float64\n",
            " 7   loan_intent                     45000 non-null  object \n",
            " 8   loan_int_rate                   45000 non-null  float64\n",
            " 9   loan_percent_income             45000 non-null  float64\n",
            " 10  cb_person_cred_hist_length      45000 non-null  float64\n",
            " 11  credit_score                    45000 non-null  int64  \n",
            " 12  previous_loan_defaults_on_file  45000 non-null  object \n",
            " 13  loan_status                     45000 non-null  int64  \n",
            "dtypes: float64(6), int64(3), object(5)\n",
            "memory usage: 4.8+ MB\n",
            "None\n",
            "         person_age  person_income  person_emp_exp     loan_amnt  \\\n",
            "count  45000.000000   4.500000e+04    45000.000000  45000.000000   \n",
            "mean      27.764178   8.031905e+04        5.410333   9583.157556   \n",
            "std        6.045108   8.042250e+04        6.063532   6314.886691   \n",
            "min       20.000000   8.000000e+03        0.000000    500.000000   \n",
            "25%       24.000000   4.720400e+04        1.000000   5000.000000   \n",
            "50%       26.000000   6.704800e+04        4.000000   8000.000000   \n",
            "75%       30.000000   9.578925e+04        8.000000  12237.250000   \n",
            "max      144.000000   7.200766e+06      125.000000  35000.000000   \n",
            "\n",
            "       loan_int_rate  loan_percent_income  cb_person_cred_hist_length  \\\n",
            "count   45000.000000         45000.000000                45000.000000   \n",
            "mean       11.006606             0.139725                    5.867489   \n",
            "std         2.978808             0.087212                    3.879702   \n",
            "min         5.420000             0.000000                    2.000000   \n",
            "25%         8.590000             0.070000                    3.000000   \n",
            "50%        11.010000             0.120000                    4.000000   \n",
            "75%        12.990000             0.190000                    8.000000   \n",
            "max        20.000000             0.660000                   30.000000   \n",
            "\n",
            "       credit_score   loan_status  \n",
            "count  45000.000000  45000.000000  \n",
            "mean     632.608756      0.222222  \n",
            "std       50.435865      0.415744  \n",
            "min      390.000000      0.000000  \n",
            "25%      601.000000      0.000000  \n",
            "50%      640.000000      0.000000  \n",
            "75%      670.000000      0.000000  \n",
            "max      850.000000      1.000000  \n"
          ]
        }
      ]
    },
    {
      "cell_type": "markdown",
      "source": [
        "Step 3: Data Preprocessing"
      ],
      "metadata": {
        "id": "PBrs_N8AtoDy"
      }
    },
    {
      "cell_type": "code",
      "source": [
        "\n",
        "\n",
        "# Encode categorical variables\n",
        "categorical_cols = df.select_dtypes(include=['object']).columns\n",
        "label_encoders = {col: LabelEncoder() for col in categorical_cols}\n",
        "for col in categorical_cols:\n",
        "    df[col] = label_encoders[col].fit_transform(df[col])\n",
        "\n",
        "# Feature-target split\n",
        "X = df.drop('loan_status', axis=1)  # Replace 'Loan_Status' with the target column\n",
        "y = df['loan_status']\n",
        "\n",
        "# Train-test split\n",
        "X_train, X_test, y_train, y_test = train_test_split(X, y, test_size=0.2, random_state=42)\n"
      ],
      "metadata": {
        "id": "yf9lI4T9tpDU"
      },
      "execution_count": 5,
      "outputs": []
    },
    {
      "cell_type": "markdown",
      "source": [
        "Step 4: Feature Scaling"
      ],
      "metadata": {
        "id": "thlBBRqHtrBa"
      }
    },
    {
      "cell_type": "code",
      "source": [
        "scaler = StandardScaler()\n",
        "X_train = scaler.fit_transform(X_train)\n",
        "X_test = scaler.transform(X_test)\n"
      ],
      "metadata": {
        "id": "Eh40Ov0rtoiV"
      },
      "execution_count": 6,
      "outputs": []
    },
    {
      "cell_type": "markdown",
      "source": [
        "Step 5: Train Multiple Classifiers"
      ],
      "metadata": {
        "id": "aU7LG2xruSHX"
      }
    },
    {
      "cell_type": "code",
      "source": [
        "# Define classifiers\n",
        "classifiers = {\n",
        "    'Logistic Regression': LogisticRegression(),\n",
        "    'Decision Tree': DecisionTreeClassifier(),\n",
        "    'Random Forest': RandomForestClassifier(),\n",
        "    'Gradient Boosting': GradientBoostingClassifier(),\n",
        "    'XGBoost': XGBClassifier(use_label_encoder=False, eval_metric='logloss'),\n",
        "    'Support Vector Machine': SVC(probability=True)\n",
        "}\n",
        "\n",
        "# Train and evaluate models\n",
        "results = {}\n",
        "\n",
        "for name, model in classifiers.items():\n",
        "    model.fit(X_train, y_train)\n",
        "    y_pred = model.predict(X_test)\n",
        "    accuracy = accuracy_score(y_test, y_pred)\n",
        "    roc_auc = roc_auc_score(y_test, model.predict_proba(X_test)[:, 1])\n",
        "    results[name] = {'Accuracy': accuracy, 'ROC-AUC': roc_auc}\n",
        "\n",
        "    print(f\"{name}:\\n\")\n",
        "    print(f\"Accuracy: {accuracy:.4f}\")\n",
        "    print(f\"ROC-AUC: {roc_auc:.4f}\")\n",
        "    print(classification_report(y_test, y_pred))\n",
        "    print(\"-\" * 50)\n"
      ],
      "metadata": {
        "colab": {
          "base_uri": "https://localhost:8080/"
        },
        "id": "CYXtxfuGuUYX",
        "outputId": "0c6d124a-8964-46d1-b9c7-6c3a2e8d3852"
      },
      "execution_count": 7,
      "outputs": [
        {
          "output_type": "stream",
          "name": "stdout",
          "text": [
            "Logistic Regression:\n",
            "\n",
            "Accuracy: 0.8901\n",
            "ROC-AUC: 0.9483\n",
            "              precision    recall  f1-score   support\n",
            "\n",
            "           0       0.92      0.94      0.93      6990\n",
            "           1       0.77      0.73      0.75      2010\n",
            "\n",
            "    accuracy                           0.89      9000\n",
            "   macro avg       0.84      0.83      0.84      9000\n",
            "weighted avg       0.89      0.89      0.89      9000\n",
            "\n",
            "--------------------------------------------------\n",
            "Decision Tree:\n",
            "\n",
            "Accuracy: 0.8963\n",
            "ROC-AUC: 0.8528\n",
            "              precision    recall  f1-score   support\n",
            "\n",
            "           0       0.93      0.93      0.93      6990\n",
            "           1       0.76      0.77      0.77      2010\n",
            "\n",
            "    accuracy                           0.90      9000\n",
            "   macro avg       0.85      0.85      0.85      9000\n",
            "weighted avg       0.90      0.90      0.90      9000\n",
            "\n",
            "--------------------------------------------------\n",
            "Gradient Boosting:\n",
            "\n",
            "Accuracy: 0.9201\n",
            "ROC-AUC: 0.9698\n",
            "              precision    recall  f1-score   support\n",
            "\n",
            "           0       0.93      0.97      0.95      6990\n",
            "           1       0.87      0.75      0.81      2010\n",
            "\n",
            "    accuracy                           0.92      9000\n",
            "   macro avg       0.90      0.86      0.88      9000\n",
            "weighted avg       0.92      0.92      0.92      9000\n",
            "\n",
            "--------------------------------------------------\n"
          ]
        },
        {
          "output_type": "stream",
          "name": "stderr",
          "text": [
            "/usr/local/lib/python3.10/dist-packages/xgboost/core.py:158: UserWarning: [17:58:33] WARNING: /workspace/src/learner.cc:740: \n",
            "Parameters: { \"use_label_encoder\" } are not used.\n",
            "\n",
            "  warnings.warn(smsg, UserWarning)\n"
          ]
        },
        {
          "output_type": "stream",
          "name": "stdout",
          "text": [
            "XGBoost:\n",
            "\n",
            "Accuracy: 0.9321\n",
            "ROC-AUC: 0.9775\n",
            "              precision    recall  f1-score   support\n",
            "\n",
            "           0       0.94      0.97      0.96      6990\n",
            "           1       0.88      0.80      0.84      2010\n",
            "\n",
            "    accuracy                           0.93      9000\n",
            "   macro avg       0.91      0.89      0.90      9000\n",
            "weighted avg       0.93      0.93      0.93      9000\n",
            "\n",
            "--------------------------------------------------\n",
            "Support Vector Machine:\n",
            "\n",
            "Accuracy: 0.9078\n",
            "ROC-AUC: 0.9570\n",
            "              precision    recall  f1-score   support\n",
            "\n",
            "           0       0.93      0.96      0.94      6990\n",
            "           1       0.83      0.74      0.78      2010\n",
            "\n",
            "    accuracy                           0.91      9000\n",
            "   macro avg       0.88      0.85      0.86      9000\n",
            "weighted avg       0.91      0.91      0.91      9000\n",
            "\n",
            "--------------------------------------------------\n"
          ]
        }
      ]
    },
    {
      "cell_type": "markdown",
      "source": [
        "Step 6: Visualize Performance"
      ],
      "metadata": {
        "id": "Y69Lz3v-vF0n"
      }
    },
    {
      "cell_type": "code",
      "source": [
        "# Visualize performance\n",
        "results_df = pd.DataFrame(results).T\n",
        "results_df.plot(kind='bar', figsize=(10, 6), title='Model Comparison')\n",
        "plt.ylabel('Score')\n",
        "plt.xticks(rotation=45)\n",
        "plt.show()\n"
      ],
      "metadata": {
        "colab": {
          "base_uri": "https://localhost:8080/",
          "height": 658
        },
        "id": "4Ik6xhHOuXMb",
        "outputId": "51ad9b37-a2a1-4ed3-bd40-a1e2c29d92ee"
      },
      "execution_count": 8,
      "outputs": [
        {
          "output_type": "display_data",
          "data": {
            "text/plain": [
              "<Figure size 1000x600 with 1 Axes>"
            ],
            "image/png": "[encoded data removed]"
          },
          "metadata": {}
        }
      ]
    },
    {
      "cell_type": "markdown",
      "source": [
        "Step 7: Save the Best Model\n"
      ],
      "metadata": {
        "id": "L8vQPWnmvTXr"
      }
    },
    {
      "cell_type": "code",
      "source": [
        "import joblib\n",
        "\n",
        "# Save the best-performing model\n",
        "best_model_name = results_df['ROC-AUC'].idxmax()\n",
        "best_model = classifiers[best_model_name]\n",
        "joblib.dump(best_model, 'best_loan_approval_model.pkl')\n",
        "\n",
        "print(f\"Best Model: {best_model_name} saved as 'best_loan_approval_model.pkl'\")\n"
      ],
      "metadata": {
        "colab": {
          "base_uri": "https://localhost:8080/"
        },
        "id": "coyde2jVvJKi",
        "outputId": "76e31ba3-efc4-4017-dc3d-6cdcec7905b6"
      },
      "execution_count": 9,
      "outputs": [
        {
          "output_type": "stream",
          "name": "stdout",
          "text": [
            "Best Model: XGBoost saved as 'best_loan_approval_model.pkl'\n"
          ]
        }
      ]
    },
    {
      "cell_type": "code",
      "source": [],
      "metadata": {
        "id": "ilv2eTQJvYip"
      },
      "execution_count": null,
      "outputs": []
    }
  ]
}